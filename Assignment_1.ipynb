{
 "cells": [
  {
   "cell_type": "markdown",
   "id": "63104237",
   "metadata": {},
   "source": [
    "### Machine learning assignment -1"
   ]
  },
  {
   "cell_type": "markdown",
   "id": "01b4526b",
   "metadata": {},
   "source": [
    "**1. What does one mean by the term &quot;machine learning&quot;?**"
   ]
  },
  {
   "cell_type": "markdown",
   "id": "5ff935de",
   "metadata": {},
   "source": [
    "Machine learning is about building systems that can learn from data. The input to the systems can be any amount of data, the system will give data driven recommendations."
   ]
  },
  {
   "cell_type": "markdown",
   "id": "cc6af344",
   "metadata": {},
   "source": [
    "**2.Can you think of 4 distinct types of issues where it shines?**"
   ]
  },
  {
   "cell_type": "markdown",
   "id": "2d57ebad",
   "metadata": {},
   "source": [
    "* Demand Forcasting\n",
    "* Customer segmentation\n",
    "* Spam Identification\n",
    "* Recommendation of products"
   ]
  },
  {
   "cell_type": "markdown",
   "id": "34087a7c",
   "metadata": {},
   "source": [
    "**3.What is a labeled training set, and how does it work?**"
   ]
  },
  {
   "cell_type": "markdown",
   "id": "0070a51f",
   "metadata": {},
   "source": [
    "While training the Meachine learning model, we use independinnt variable and known output variable ( labled data) to train the model and then use the trained model to predict the unknown data or test data."
   ]
  },
  {
   "cell_type": "markdown",
   "id": "0ce9638b",
   "metadata": {},
   "source": [
    "**4.What are the two most important tasks that are supervised?**"
   ]
  },
  {
   "cell_type": "markdown",
   "id": "6551eb8b",
   "metadata": {},
   "source": [
    "* Regression \n",
    "* Classification"
   ]
  },
  {
   "cell_type": "markdown",
   "id": "8ee05fcf",
   "metadata": {},
   "source": [
    "**5.Can you think of four examples of unsupervised tasks?**"
   ]
  },
  {
   "cell_type": "markdown",
   "id": "c3d02741",
   "metadata": {},
   "source": [
    "* Clustering\n",
    "* Visualisation\n",
    "* Dimensionality Reduction\n",
    "* Association rule learning"
   ]
  },
  {
   "cell_type": "markdown",
   "id": "1e8beb9f",
   "metadata": {},
   "source": [
    "**6.State the machine learning model that would be best to make a robot walk through various\n",
    "unfamiliar terrains?**"
   ]
  },
  {
   "cell_type": "markdown",
   "id": "475a3bca",
   "metadata": {},
   "source": [
    "Reinforcement learning can be used to make make a robot walk through various unfamiliar terrains"
   ]
  },
  {
   "cell_type": "markdown",
   "id": "24e163fc",
   "metadata": {},
   "source": [
    "**7.Which algorithm will you use to divide your customers into different groups?**"
   ]
  },
  {
   "cell_type": "markdown",
   "id": "00427dbc",
   "metadata": {},
   "source": [
    "K-means Clustering algorithm can be used to divide the customer into differnt groups."
   ]
  },
  {
   "cell_type": "markdown",
   "id": "cd3a68a2",
   "metadata": {},
   "source": [
    "**8.Will you consider the problem of spam detection to be a supervised or unsupervised learning\n",
    "problem?**"
   ]
  },
  {
   "cell_type": "markdown",
   "id": "be37da76",
   "metadata": {},
   "source": [
    "Spam Detection is a Supervised learning problem, because the model has to be trianed with labled dataset"
   ]
  },
  {
   "cell_type": "markdown",
   "id": "f109495c",
   "metadata": {},
   "source": [
    "**9.What is the concept of an online learning system?**"
   ]
  },
  {
   "cell_type": "markdown",
   "id": "34d7d48a",
   "metadata": {},
   "source": [
    "In Online learning system the machine learning model, learns from the continuously feed data."
   ]
  },
  {
   "cell_type": "markdown",
   "id": "6289bb03",
   "metadata": {},
   "source": [
    "**10.What is out-of-core learning, and how does it differ from core learning?**"
   ]
  },
  {
   "cell_type": "markdown",
   "id": "e858366e",
   "metadata": {},
   "source": [
    "Out of core learning is also known as online learning systems,  It can be used with data that cannot be stored in a local system."
   ]
  },
  {
   "cell_type": "markdown",
   "id": "46030fd9",
   "metadata": {},
   "source": [
    "**11.What kind of learning algorithm makes predictions using a similarity measure?**"
   ]
  },
  {
   "cell_type": "markdown",
   "id": "c7d1c2a7",
   "metadata": {},
   "source": [
    "Instance based algorithm uses similarity measures for predictions, it is also known as memory based learning. This algorith looks for the similarity of the new data with existing trained data."
   ]
  },
  {
   "cell_type": "markdown",
   "id": "48e20d89",
   "metadata": {},
   "source": [
    "**12.What&#39;s the difference between a model parameter and a hyperparameter in a learning\n",
    "algorithm?**"
   ]
  },
  {
   "cell_type": "markdown",
   "id": "20e2a882",
   "metadata": {},
   "source": [
    "Model parameter are internal to the model, it is extimated during the training of the model. model parameter determine the how the model will predict the new data.\n",
    "\n",
    "hyperparameter are external to the model, were it is set manually during model building based on trail and error basis."
   ]
  },
  {
   "cell_type": "markdown",
   "id": "c866126a",
   "metadata": {},
   "source": [
    "**13.What are the criteria that model-based learning algorithms look for? What is the most popular\n",
    "method they use to achieve success? What method do they use to make predictions?**"
   ]
  },
  {
   "cell_type": "markdown",
   "id": "ab9c28f7",
   "metadata": {},
   "source": [
    "Model based alogorithms look for optimal value for the parameters, The optimal value can be achieved by minimising the loss function. The optimal value from the training datacan be used to predict the new data."
   ]
  },
  {
   "cell_type": "markdown",
   "id": "b19282f0",
   "metadata": {},
   "source": [
    "**14.Can you name four of the most important Machine Learning challenges?**"
   ]
  },
  {
   "cell_type": "markdown",
   "id": "7211b859",
   "metadata": {},
   "source": [
    "* Inadequate Training data\n",
    "* Poor quality of data\n",
    "* Baised data\n",
    "* Overfitting and underfitting"
   ]
  },
  {
   "cell_type": "markdown",
   "id": "44e4ee8b",
   "metadata": {},
   "source": [
    "**15.What happens if the model performs well on the training data but fails to generalize the results\n",
    "to new situations? Can you think of three different options?**"
   ]
  },
  {
   "cell_type": "markdown",
   "id": "8a39ca36",
   "metadata": {},
   "source": [
    "When the model does well with the training data and performs poor with the test data, then we can say it is overffiting the training data. \n",
    "\n",
    "Solutions for overfitting.\n",
    "* Adding more data\n",
    "* Eliminate the outliers\n",
    "* Using L1/L2 Regularizations"
   ]
  },
  {
   "cell_type": "markdown",
   "id": "8c12eb41",
   "metadata": {},
   "source": [
    "**16.What exactly is a test set, and why would you need one?**"
   ]
  },
  {
   "cell_type": "markdown",
   "id": "3aa7f43f",
   "metadata": {},
   "source": [
    "Duirng mode builing we split the data into train and test dataset, onlce the model is trained ,it has to be to tested before using with actual or nee data. Test data is needed for finding how our model perfromance."
   ]
  },
  {
   "cell_type": "markdown",
   "id": "dde60c5d",
   "metadata": {},
   "source": [
    "**17.What is a validation set&#39;s purpose?**"
   ]
  },
  {
   "cell_type": "markdown",
   "id": "7453911d",
   "metadata": {},
   "source": [
    "Validation dataset is used to select the best perfoming models, then hhe model is tested in test dataset. "
   ]
  },
  {
   "cell_type": "markdown",
   "id": "0cfe4a7f",
   "metadata": {},
   "source": [
    "**18.What precisely is the train-dev kit, when will you need it, how do you put it to use?**"
   ]
  },
  {
   "cell_type": "markdown",
   "id": "95304fde",
   "metadata": {},
   "source": [
    "The data is divided into train, development and test dataset. the train and development data is used to train the model with best optimal hyper parameters. we have to split the train data again for validation dataset."
   ]
  },
  {
   "cell_type": "markdown",
   "id": "aa74806c",
   "metadata": {},
   "source": [
    "**19.What could go wrong if you use the test set to tune hyperparameters?**"
   ]
  },
  {
   "cell_type": "markdown",
   "id": "a03d8dcd",
   "metadata": {},
   "source": [
    "The model in which hyperparameter is tuned on test data may not work will eith the real world data, because it may overfit with the available data."
   ]
  }
 ],
 "metadata": {
  "kernelspec": {
   "display_name": "Python 3 (ipykernel)",
   "language": "python",
   "name": "python3"
  },
  "language_info": {
   "codemirror_mode": {
    "name": "ipython",
    "version": 3
   },
   "file_extension": ".py",
   "mimetype": "text/x-python",
   "name": "python",
   "nbconvert_exporter": "python",
   "pygments_lexer": "ipython3",
   "version": "3.9.7"
  }
 },
 "nbformat": 4,
 "nbformat_minor": 5
}
